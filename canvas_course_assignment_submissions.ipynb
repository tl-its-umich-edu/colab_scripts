{
  "nbformat": 4,
  "nbformat_minor": 0,
  "metadata": {
    "colab": {
      "provenance": [],
      "name": "canvas-course-assignment-submissions.ipynb",
      "authorship_tag": "ABX9TyPA+ZFR8/ddZP8edjwDpNpx",
      "include_colab_link": true
    },
    "kernelspec": {
      "name": "python3",
      "display_name": "Python 3"
    },
    "language_info": {
      "name": "python"
    }
  },
  "cells": [
    {
      "cell_type": "markdown",
      "metadata": {
        "id": "view-in-github",
        "colab_type": "text"
      },
      "source": [
        "<a href=\"https://colab.research.google.com/github/zqian/colab_scripts/blob/main/canvas_course_assignment_submissions.ipynb\" target=\"_parent\"><img src=\"https://colab.research.google.com/assets/colab-badge.svg\" alt=\"Open In Colab\"/></a>"
      ]
    },
    {
      "cell_type": "code",
      "execution_count": null,
      "metadata": {
        "id": "SpFkZAGACi_O"
      },
      "outputs": [],
      "source": [
        "#install canvas api\n",
        "!pip install canvasapi"
      ]
    },
    {
      "cell_type": "code",
      "source": [
        "import pandas as pd\n",
        "# Import the Canvas class\n",
        "from canvasapi import Canvas\n",
        "from canvasapi.tab import Tab\n",
        "from getpass import getpass"
      ],
      "metadata": {
        "id": "9saDp4Ze5tzw"
      },
      "execution_count": null,
      "outputs": []
    },
    {
      "cell_type": "code",
      "source": [
        "# Canvas API URL\n",
        "API_URL = \"canvas_url\"\n",
        "# Canvas API key (generated from settings)\n",
        "API_KEY = getpass('Enter your API KEY:')\n",
        "\n",
        "# Initialize a new Canvas object\n",
        "canvas_api = Canvas(API_URL, API_KEY)\n"
      ],
      "metadata": {
        "id": "nr3rf8raC1nB"
      },
      "execution_count": null,
      "outputs": []
    },
    {
      "cell_type": "code",
      "source": [
        "account_id = ACCOUNT_ID\n",
        "course_id = COURSE_ID"
      ],
      "metadata": {
        "id": "nqbFW2SIC_Yz"
      },
      "execution_count": null,
      "outputs": []
    },
    {
      "cell_type": "code",
      "source": [
        "account = canvas_api.get_account(account_id)\n",
        "course = canvas_api.get_course(course_id)\n",
        "assignments = course.get_assignments()"
      ],
      "metadata": {
        "id": "t7ghnOVCDgth"
      },
      "execution_count": null,
      "outputs": []
    },
    {
      "cell_type": "code",
      "source": [
        "column_header_list = ['Student', 'ID', 'SIS User ID', 'SIS Login ID', 'Section']\n",
        "for assignment in assignments:\n",
        "  assignment_entry = assignment.name + \"(\" + str(assignment.id) + \")\"\n",
        "  column_header_list.append(assignment_entry)\n",
        "\n",
        "print(column_header_list)\n",
        "df = pd.DataFrame(columns=column_header_list)\n"
      ],
      "metadata": {
        "id": "_r4zg0ezyOGx"
      },
      "execution_count": null,
      "outputs": []
    },
    {
      "cell_type": "code",
      "source": [
        "# get all class enrollment\n",
        "for enrollment in course.get_enrollments():\n",
        "    user_id = enrollment.user_id\n",
        "    user_sis_id = enrollment.sis_user_id\n",
        "    course_section_id = enrollment.course_section_id\n",
        "    section = canvas_api.get_section(course_section_id)\n",
        "\n",
        "    # only get active enrollment\n",
        "    if enrollment.enrollment_state == 'active':\n",
        "      user = canvas_api.get_user(int(user_id))\n",
        "      user_dict = {\n",
        "          'Student': user.sortable_name,\n",
        "          'ID': user_id, \n",
        "          'SIS User ID': user_sis_id,\n",
        "          'SIS Login ID': user.login_id, \n",
        "          'Section':section.name\n",
        "      }\n",
        "      for assignment in assignments:\n",
        "        # initialize status to empty string\n",
        "        assignment_entry = assignment.name + \"(\" + str(assignment.id) + \")\"\n",
        "        user_dict[assignment_entry] = \"\"\n",
        "\n",
        "      # append to the end of dataframe\n",
        "      df_user = pd.DataFrame([user_dict])\n",
        "      df = pd.concat([df, df_user], axis=0)"
      ],
      "metadata": {
        "id": "hpcRr21y2Yym"
      },
      "execution_count": null,
      "outputs": []
    },
    {
      "cell_type": "code",
      "source": [
        "# now update the submission grade/status\n",
        "for assignment in assignments:\n",
        "\n",
        "  assignment_entry = assignment.name + \"(\" + str(assignment.id) + \")\"\n",
        "  print(assignment_entry)\n",
        "  submissions = assignment.get_submissions()\n",
        "  for submission in submissions:\n",
        "    # show submission grade if available, otherwise show submission workflow status\n",
        "    status = submission.grade if (submission.grade is not None and len(submission.grade)>0) else submission.workflow_state\n",
        "    user_dict[assignment.name] = status\n",
        "\n",
        "    user_id = submission.user_id\n",
        "\n",
        "    # find the user row\n",
        "    df.loc[df['ID'] == user_id, assignment_entry] = status\n",
        "\n",
        "      "
      ],
      "metadata": {
        "id": "q8aZkBw1_Xmm"
      },
      "execution_count": null,
      "outputs": []
    },
    {
      "cell_type": "code",
      "source": [
        "# output csv file\n",
        "df.to_csv('grades_output_new.csv') \n",
        "files.download('grades_output_new.csv')"
      ],
      "metadata": {
        "colab": {
          "base_uri": "https://localhost:8080/",
          "height": 17
        },
        "id": "vPxDtLI5Ek75",
        "outputId": "ec32f2fe-3075-4614-ab75-0a828369f9ee"
      },
      "execution_count": null,
      "outputs": [
        {
          "output_type": "display_data",
          "data": {
            "text/plain": [
              "<IPython.core.display.Javascript object>"
            ],
            "application/javascript": [
              "\n",
              "    async function download(id, filename, size) {\n",
              "      if (!google.colab.kernel.accessAllowed) {\n",
              "        return;\n",
              "      }\n",
              "      const div = document.createElement('div');\n",
              "      const label = document.createElement('label');\n",
              "      label.textContent = `Downloading \"${filename}\": `;\n",
              "      div.appendChild(label);\n",
              "      const progress = document.createElement('progress');\n",
              "      progress.max = size;\n",
              "      div.appendChild(progress);\n",
              "      document.body.appendChild(div);\n",
              "\n",
              "      const buffers = [];\n",
              "      let downloaded = 0;\n",
              "\n",
              "      const channel = await google.colab.kernel.comms.open(id);\n",
              "      // Send a message to notify the kernel that we're ready.\n",
              "      channel.send({})\n",
              "\n",
              "      for await (const message of channel.messages) {\n",
              "        // Send a message to notify the kernel that we're ready.\n",
              "        channel.send({})\n",
              "        if (message.buffers) {\n",
              "          for (const buffer of message.buffers) {\n",
              "            buffers.push(buffer);\n",
              "            downloaded += buffer.byteLength;\n",
              "            progress.value = downloaded;\n",
              "          }\n",
              "        }\n",
              "      }\n",
              "      const blob = new Blob(buffers, {type: 'application/binary'});\n",
              "      const a = document.createElement('a');\n",
              "      a.href = window.URL.createObjectURL(blob);\n",
              "      a.download = filename;\n",
              "      div.appendChild(a);\n",
              "      a.click();\n",
              "      div.remove();\n",
              "    }\n",
              "  "
            ]
          },
          "metadata": {}
        },
        {
          "output_type": "display_data",
          "data": {
            "text/plain": [
              "<IPython.core.display.Javascript object>"
            ],
            "application/javascript": [
              "download(\"download_9f65fdec-a895-4b6e-8d6c-798c1924f71f\", \"grades_output_new.csv\", 43485)"
            ]
          },
          "metadata": {}
        }
      ]
    }
  ]
}