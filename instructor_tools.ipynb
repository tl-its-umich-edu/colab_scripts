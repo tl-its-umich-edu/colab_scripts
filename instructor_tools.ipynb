{
 "cells": [
  {
   "cell_type": "code",
   "execution_count": null,
   "metadata": {},
   "outputs": [],
   "source": [
    "from google.cloud import bigquery\n",
    "import pandas as pd"
   ]
  },
  {
   "cell_type": "code",
   "execution_count": null,
   "metadata": {},
   "outputs": [],
   "source": [
    "# Construct a BigQuery client object.\n",
    "#client = bigquery.Client()\n",
    "# parse the config json file to the client\n",
    "client = bigquery.Client.from_service_account_json(\"/path/to/bq_cred.json\")"
   ]
  },
  {
   "cell_type": "code",
   "execution_count": null,
   "metadata": {},
   "outputs": [],
   "source": [
    "# define function to execute query\n",
    "def execute_bq_query(sql_file_name):\n",
    "        # Read in query from text file\n",
    "    with open(sql_file_name, 'r') as file:\n",
    "        query = file.read()\n",
    "\n",
    "    # Execute the query\n",
    "    query_job = client.query(query)\n",
    "\n",
    "    # Process the results\n",
    "    results = query_job.result()\n",
    "\n",
    "    print(results)\n",
    "    \n",
    "    # Convert results to dataframe\n",
    "    # use the field names as the column names\n",
    "    df = pd.DataFrame(data=[list(row.values()) for row in results],\n",
    "                  columns=[field.name for field in results.schema])\n",
    "    return df"
   ]
  },
  {
   "cell_type": "code",
   "execution_count": null,
   "metadata": {},
   "outputs": [],
   "source": [
    "df = execute_bq_query('get_term_courses.sql')\n",
    "# print number of rows in the dataframe\n",
    "print(df.shape[0])"
   ]
  },
  {
   "cell_type": "code",
   "execution_count": null,
   "metadata": {},
   "outputs": [],
   "source": [
    "# print dataframe columns\n",
    "print(df.columns)"
   ]
  },
  {
   "cell_type": "code",
   "execution_count": null,
   "metadata": {},
   "outputs": [],
   "source": [
    "from canvasapi import Canvas\n",
    "from dotenv import load_dotenv\n",
    "import os\n",
    "\n",
    "#Load environment file for secrets.\n",
    "try:\n",
    "    if load_dotenv('.env') is False:\n",
    "        raise TypeError\n",
    "except TypeError:\n",
    "    print('Unable to load .env file.')\n",
    "    quit()\n",
    "\n",
    "# init canvas api instance\n",
    "API_URL = os.getenv('API_URL')\n",
    "API_KEY = os.getenv('API_KEY')\n",
    "canvas = Canvas(API_URL, API_KEY)"
   ]
  },
  {
   "cell_type": "code",
   "execution_count": null,
   "metadata": {},
   "outputs": [],
   "source": [
    "# loop through the dataframe and print the first 5 rows\n",
    "for index, row in df.iterrows():\n",
    "    course_id = row['course_id']\n",
    "    print(course_id)\n",
    "    # add tool into the course navigation\n",
    "    course = canvas.get_course(course_id)\n",
    "    course_tabs = course.get_tabs()\n",
    "    for tab in course_tabs:\n",
    "        if tab.label == 'Instructor Tools - Test':\n",
    "            print('found the tab')\n",
    "            # update its position\n",
    "            tab.update(position=2)\n",
    "    break"
   ]
  }
 ],
 "metadata": {
  "kernelspec": {
   "display_name": "Python 3",
   "language": "python",
   "name": "python3"
  },
  "language_info": {
   "codemirror_mode": {
    "name": "ipython",
    "version": 3
   },
   "file_extension": ".py",
   "mimetype": "text/x-python",
   "name": "python",
   "nbconvert_exporter": "python",
   "pygments_lexer": "ipython3",
   "version": "3.10.0"
  }
 },
 "nbformat": 4,
 "nbformat_minor": 2
}
