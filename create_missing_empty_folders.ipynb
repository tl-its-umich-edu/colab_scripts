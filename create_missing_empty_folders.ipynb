{
 "cells": [
  {
   "cell_type": "markdown",
   "metadata": {},
   "source": [
    "# there is a known issue in Canvas import that empty folders are not imported\n",
    "# https://community.canvaslms.com/t5/Archived-Questions/ARCHIVED-Duplicating-folder-structures/m-p/142963\n",
    "\n",
    "# this script will find out the missing empty folders by comparing the source Canvas site with target Canvas site\n",
    "# and add those missing folders with its parent folders recursively"
   ]
  },
  {
   "cell_type": "code",
   "execution_count": null,
   "metadata": {},
   "outputs": [],
   "source": [
    "# install the UCF canvasapi library\n",
    "# https://github.com/ucfopen/canvasapi\n",
    "!pip install canvasapi"
   ]
  },
  {
   "cell_type": "code",
   "execution_count": 4,
   "metadata": {},
   "outputs": [],
   "source": [
    "# all the configuration variables needed for this script\n",
    "\n",
    "# this step is for Google Colab setup;\n",
    "# use the Key button on the left panel and enter your key named after \"CANVAS_API_KEY\"\n",
    "from google.colab import userdata\n",
    "# init canvas api instance with token and url\n",
    "API_KEY = userdata.get('CANVAS_API_KEY')\n",
    "# Canvas instance url\n",
    "API_URL = \"canvas url\"\n",
    "\n",
    "# get canvas assignments with giving ids\n",
    "import json\n",
    "import os\n",
    "from canvasapi import Canvas\n",
    "\n",
    "# init canvas api instance\n",
    "canvas = Canvas(API_URL, API_KEY)"
   ]
  },
  {
   "cell_type": "code",
   "execution_count": 67,
   "metadata": {},
   "outputs": [],
   "source": [
    "# Canvas course ids for source and target courses\n",
    "source_course_id = source_site_id\n",
    "target_course_id = target_course_id"
   ]
  },
  {
   "cell_type": "code",
   "execution_count": null,
   "metadata": {},
   "outputs": [],
   "source": [
    "source_course = canvas.get_course(source_course_id)\n",
    "print(source_course)\n",
    "# create a set\n",
    "source_folders = set()\n",
    "for folder in source_course.get_folders():\n",
    "    # add folder to set\n",
    "    source_folders.add(folder.full_name)\n",
    "# print source_folders size\n",
    "print(\"count of folders:\" + len(source_folders))"
   ]
  },
  {
   "cell_type": "code",
   "execution_count": null,
   "metadata": {},
   "outputs": [],
   "source": [
    "target_course = canvas.get_course(target_course_id)\n",
    "print(target_course)\n",
    "# create a set\n",
    "target_folders = set()\n",
    "for folder in target_course.get_folders():\n",
    "    # add folder to set\n",
    "    target_folders.add(folder.full_name)\n",
    "# print source_folders size\n",
    "print(\"count of folders=\" + len(target_folders))"
   ]
  },
  {
   "cell_type": "code",
   "execution_count": null,
   "metadata": {},
   "outputs": [],
   "source": [
    "# compare source and target folders\n",
    "# put the diff in a list and sort it\n",
    "diff_folders = list(source_folders - target_folders)\n",
    "diff_folders.sort()\n",
    "# print each element inside diff_folders, use list comprehension\n",
    "[print(folder) for folder in diff_folders]\n",
    "\n",
    "# print the size of diff_folders\n",
    "print(\"count of missing folders:\" + len(diff_folders))"
   ]
  },
  {
   "cell_type": "code",
   "execution_count": null,
   "metadata": {},
   "outputs": [],
   "source": [
    "# get target course root folder\n",
    "folders = target_course.resolve_path()\n",
    "root_folder = None\n",
    "for folder in folders:\n",
    "    print(folder)\n",
    "    root_folder = folder\n",
    "    break"
   ]
  },
  {
   "cell_type": "code",
   "execution_count": 71,
   "metadata": {},
   "outputs": [],
   "source": [
    "# create folder recursively based on the folder path\n",
    "def create_folder_recursive(folder_path, parent_folder):\n",
    "    folder_path = folder_path.replace('course files/', '')\n",
    "    # split the folder path\n",
    "    folders = folder_path.split(\"/\")\n",
    "    # iterate over each folder\n",
    "    for folder in folders:\n",
    "        found_folder = False\n",
    "        # check if folder exists\n",
    "        for f in parent_folder.get_folders():\n",
    "            if f.name == folder:\n",
    "                # update boolean\n",
    "                found_folder = True\n",
    "                # update parent folder\n",
    "                parent_folder = f\n",
    "                break\n",
    "        if not found_folder:\n",
    "            # create folder\n",
    "            parent_folder.create_folder(folder)"
   ]
  },
  {
   "cell_type": "code",
   "execution_count": null,
   "metadata": {},
   "outputs": [],
   "source": [
    "# for each folder inside the diff_folders,\n",
    "# based on the folder name, find the parent folder name by parsing its path\n",
    "# find whether the parent folder exist in the target course\n",
    "# if not, create the parent folder\n",
    "# then create the folder in the target course\n",
    "# if parent folder exist, create the folder in the target course\n",
    "# if the folder already exist, print the folder name\n",
    "count = 0\n",
    "for folder in diff_folders:\n",
    "    count += 1\n",
    "    print(\"count=\" + str(count) + \":\" + folder)\n",
    "    # if folder has only one '/'\n",
    "    if folder.count('/') == 1:\n",
    "        # replace 'course files/' with 'files/'\n",
    "        folder_name = folder.replace('course files/', '')\n",
    "        print(\"create folder:\" + folder_name)\n",
    "        root_folder.create_folder(name=folder_name)\n",
    "        print('    ')\n",
    "    else:\n",
    "        # call recursive function to create folders\n",
    "        print(\"recursive create folder and all its parent folders:\" + folder)\n",
    "        create_folder_recursive(folder, root_folder)\n",
    "        print('    ')"
   ]
  },
  {
   "cell_type": "code",
   "execution_count": null,
   "metadata": {},
   "outputs": [],
   "source": [
    "# now get a list of all the folders in the target course again\n",
    "target_course = canvas.get_course(target_course_id)\n",
    "print(target_course)\n",
    "# create a set\n",
    "target_folders = set()\n",
    "for folder in target_course.get_folders():\n",
    "    # add folder to set\n",
    "    target_folders.add(folder.full_name)\n",
    "# print source_folders size\n",
    "print(\"count of folders=\" + len(target_folders))"
   ]
  },
  {
   "cell_type": "code",
   "execution_count": null,
   "metadata": {},
   "outputs": [],
   "source": [
    "# and compare source and target folders\n",
    "# put the diff in a list and sort it\n",
    "# the diff list should be empty\n",
    "diff_folders = list(source_folders - target_folders)\n",
    "diff_folders.sort()\n",
    "print(\"count of missing folders:\" + len(diff_folders))"
   ]
  }
 ],
 "metadata": {
  "kernelspec": {
   "display_name": "Python 3",
   "language": "python",
   "name": "python3"
  },
  "language_info": {
   "codemirror_mode": {
    "name": "ipython",
    "version": 3
   },
   "file_extension": ".py",
   "mimetype": "text/x-python",
   "name": "python",
   "nbconvert_exporter": "python",
   "pygments_lexer": "ipython3",
   "version": "3.10.0"
  }
 },
 "nbformat": 4,
 "nbformat_minor": 2
}
